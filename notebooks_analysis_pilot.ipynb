{
 "cells": [
  {
   "cell_type": "markdown",
   "metadata": {},
   "source": [
    "# 1000 Jupyter Notebooks\n",
    "This notebook analyzes 1000 (really 1020) Jupyter Notebooks [scraped from GitHub](github_scraping.ipynb) on June 26, 2017."
   ]
  },
  {
   "cell_type": "code",
   "execution_count": 1,
   "metadata": {
    "collapsed": true
   },
   "outputs": [],
   "source": [
    "import os\n",
    "import json\n",
    "import numpy as np\n",
    "import pandas as pd\n",
    "import matplotlib.pyplot as plt\n",
    "import seaborn as sns\n",
    "\n",
    "%matplotlib inline"
   ]
  },
  {
   "cell_type": "markdown",
   "metadata": {},
   "source": [
    "## Import Data"
   ]
  },
  {
   "cell_type": "code",
   "execution_count": 2,
   "metadata": {},
   "outputs": [
    {
     "name": "stdout",
     "output_type": "stream",
     "text": [
      "(1020, 5)\n"
     ]
    },
    {
     "data": {
      "text/html": [
       "<div>\n",
       "<style>\n",
       "    .dataframe thead tr:only-child th {\n",
       "        text-align: right;\n",
       "    }\n",
       "\n",
       "    .dataframe thead th {\n",
       "        text-align: left;\n",
       "    }\n",
       "\n",
       "    .dataframe tbody tr th {\n",
       "        vertical-align: top;\n",
       "    }\n",
       "</style>\n",
       "<table border=\"1\" class=\"dataframe\">\n",
       "  <thead>\n",
       "    <tr style=\"text-align: right;\">\n",
       "      <th></th>\n",
       "      <th>html_url</th>\n",
       "      <th>name</th>\n",
       "      <th>path</th>\n",
       "      <th>raw_url</th>\n",
       "      <th>download_index</th>\n",
       "    </tr>\n",
       "  </thead>\n",
       "  <tbody>\n",
       "    <tr>\n",
       "      <th>0</th>\n",
       "      <td>https://github.com/ericschulz/compforca/blob/d...</td>\n",
       "      <td>Analysis.ipynb</td>\n",
       "      <td>Data analysis/Analysis.ipynb</td>\n",
       "      <td>https://raw.githubusercontent.com/ericschulz/c...</td>\n",
       "      <td>0</td>\n",
       "    </tr>\n",
       "    <tr>\n",
       "      <th>1</th>\n",
       "      <td>https://github.com/huang12zheng/jupyter/blob/c...</td>\n",
       "      <td>SetEnv.ipynb</td>\n",
       "      <td>python_study/SetEnv.ipynb</td>\n",
       "      <td>https://raw.githubusercontent.com/huang12zheng...</td>\n",
       "      <td>1</td>\n",
       "    </tr>\n",
       "    <tr>\n",
       "      <th>2</th>\n",
       "      <td>https://github.com/bukosabino/btctrading/blob/...</td>\n",
       "      <td>xgboost.ipynb</td>\n",
       "      <td>xgboost.ipynb</td>\n",
       "      <td>https://raw.githubusercontent.com/bukosabino/b...</td>\n",
       "      <td>2</td>\n",
       "    </tr>\n",
       "    <tr>\n",
       "      <th>3</th>\n",
       "      <td>https://github.com/bukosabino/btctrading/blob/...</td>\n",
       "      <td>Ensembles.ipynb</td>\n",
       "      <td>Ensembles.ipynb</td>\n",
       "      <td>https://raw.githubusercontent.com/bukosabino/b...</td>\n",
       "      <td>3</td>\n",
       "    </tr>\n",
       "    <tr>\n",
       "      <th>4</th>\n",
       "      <td>https://github.com/BenjiDa/Flowstress/blob/ff9...</td>\n",
       "      <td>Compile_code.ipynb</td>\n",
       "      <td>Compile_code.ipynb</td>\n",
       "      <td>https://raw.githubusercontent.com/BenjiDa/Flow...</td>\n",
       "      <td>4</td>\n",
       "    </tr>\n",
       "  </tbody>\n",
       "</table>\n",
       "</div>"
      ],
      "text/plain": [
       "                                            html_url                name  \\\n",
       "0  https://github.com/ericschulz/compforca/blob/d...      Analysis.ipynb   \n",
       "1  https://github.com/huang12zheng/jupyter/blob/c...        SetEnv.ipynb   \n",
       "2  https://github.com/bukosabino/btctrading/blob/...       xgboost.ipynb   \n",
       "3  https://github.com/bukosabino/btctrading/blob/...     Ensembles.ipynb   \n",
       "4  https://github.com/BenjiDa/Flowstress/blob/ff9...  Compile_code.ipynb   \n",
       "\n",
       "                           path  \\\n",
       "0  Data analysis/Analysis.ipynb   \n",
       "1     python_study/SetEnv.ipynb   \n",
       "2                 xgboost.ipynb   \n",
       "3               Ensembles.ipynb   \n",
       "4            Compile_code.ipynb   \n",
       "\n",
       "                                             raw_url  download_index  \n",
       "0  https://raw.githubusercontent.com/ericschulz/c...               0  \n",
       "1  https://raw.githubusercontent.com/huang12zheng...               1  \n",
       "2  https://raw.githubusercontent.com/bukosabino/b...               2  \n",
       "3  https://raw.githubusercontent.com/bukosabino/b...               3  \n",
       "4  https://raw.githubusercontent.com/BenjiDa/Flow...               4  "
      ]
     },
     "execution_count": 2,
     "metadata": {},
     "output_type": "execute_result"
    }
   ],
   "source": [
    "df = pd.read_csv('data/recent_notebooks.csv')\n",
    "del df['Unnamed: 0']\n",
    "print(df.shape)\n",
    "df.head()"
   ]
  },
  {
   "cell_type": "markdown",
   "metadata": {},
   "source": [
    "## Calculate Notebook Stats"
   ]
  },
  {
   "cell_type": "markdown",
   "metadata": {},
   "source": [
    "For each notebook, I'd like to first know a couple basic stats like nbformat, kernel, number and type of cells, lines of code, and so on. I will pull this information from the notebooks themselves.\n",
    "\n",
    "I will also want to get two additional bits of information from the url, namely the user and repository"
   ]
  },
  {
   "cell_type": "code",
   "execution_count": 3,
   "metadata": {
    "collapsed": true
   },
   "outputs": [],
   "source": [
    "# get github user and repository containing the notebook from the url\n",
    "splits = df['html_url'].str.split('/')\n",
    "\n",
    "df['user_name'] = splits.str[3]\n",
    "df['repo_name'] = splits.str[4]"
   ]
  },
  {
   "cell_type": "code",
   "execution_count": 4,
   "metadata": {
    "collapsed": true
   },
   "outputs": [],
   "source": [
    "# columns for notebook size\n",
    "df[\"byte_size\"] = None\n",
    "df[\"num_cells\"] = None\n",
    "df[\"num_markdown_cells\"] = None\n",
    "df[\"num_code_cells\"] = None\n",
    "df[\"num_raw_cells\"] = None\n",
    "df[\"markdown_words\"] = None\n",
    "df[\"code_lines\"] = None\n",
    "\n",
    "# ... for code cell outputs\n",
    "df[\"num_display_data\"] = None\n",
    "df[\"num_execute_result\"] = None\n",
    "df[\"num_error\"] = None\n",
    "\n",
    "# ... nbformat and the kernel\n",
    "df[\"nb_format\"] = None\n",
    "df[\"nb_format_minor\"] = None\n",
    "df[\"kernel_lang\"] = None\n",
    "df[\"kernel_name\"] = None"
   ]
  },
  {
   "cell_type": "code",
   "execution_count": 5,
   "metadata": {},
   "outputs": [
    {
     "name": "stdout",
     "output_type": "stream",
     "text": [
      "0\n",
      "100\n",
      "200\n",
      "300\n",
      "400\n",
      "500\n",
      "600\n",
      "700\n",
      "800\n",
      "900\n",
      "1000\n"
     ]
    }
   ],
   "source": [
    "# calculate stats and get metadata for all 1020 notebooks\n",
    "for i in range(0, 1020):\n",
    "    # track progress\n",
    "    if i % 100 == 0:\n",
    "        print(i)\n",
    "    \n",
    "    # Load file\n",
    "    f = \"data/raw_notebooks/nb%s.json\" % i\n",
    "    byte_size = os.path.getsize(f)\n",
    "\n",
    "    with open(f) as data_file:    \n",
    "        # load json file\n",
    "        try:\n",
    "            data = json.load(data_file)\n",
    "        except:\n",
    "            continue\n",
    "        \n",
    "        # initialize counters\n",
    "        code_lines = 0\n",
    "        markdown_words = 0\n",
    "\n",
    "        num_code_cells = 0\n",
    "        num_markdown_cells = 0\n",
    "        num_raw_cells = 0\n",
    "\n",
    "        num_display_data = 0\n",
    "        num_execute_result = 0\n",
    "        num_error = 0\n",
    "\n",
    "        # get nbformat and kernel metadata, which may not be there\n",
    "        try:\n",
    "            nb_format = data['nbformat']\n",
    "            nb_format_minor = data['nbformat_minor']\n",
    "        except:\n",
    "            nb_format = None\n",
    "            nb_format_minor = None\n",
    "            \n",
    "        try:\n",
    "            kernel_lang = data['metadata']['kernelspec']['language']\n",
    "            kernel_name = data['metadata']['kernelspec']['name']                \n",
    "        except:\n",
    "            kernel_lang = None\n",
    "            kernel_name = None\n",
    "            \n",
    "        # get cells, which are stored differently depending on the nbformat version\n",
    "        if nb_format >= 4:\n",
    "            cells = data['cells']\n",
    "        else:\n",
    "            cells = data['worksheets'][0]['cells']\n",
    "\n",
    "        num_cells = len(cells)\n",
    "\n",
    "        for c in cells:\n",
    "\n",
    "            # markdown cells\n",
    "            if c['cell_type'] in ['markdown','heading']:\n",
    "                num_markdown_cells += 1\n",
    "                for l in c['source']:                \n",
    "                    markdown_words += len(l.split())                \n",
    "\n",
    "            # code cells\n",
    "            elif c['cell_type'] == \"code\":\n",
    "                num_code_cells += 1\n",
    "                if 'input' in c.keys():\n",
    "                    code_lines += len(c['input'])\n",
    "                elif 'source' in c.keys():\n",
    "                    code_lines += len(c['source'])\n",
    "                else:\n",
    "                    print(\"Could not find code cell source\")\n",
    "\n",
    "                # count outputs\n",
    "                for o in c['outputs']:\n",
    "                    if o['output_type'] == 'display_data':\n",
    "                        num_display_data += 1\n",
    "                    elif o['output_type'] in ['execute_result', 'pyout']:\n",
    "                        num_execute_result += 1\n",
    "                    elif o['output_type'] == 'error':\n",
    "                        num_error += 1\n",
    "\n",
    "            # raw cells\n",
    "            elif c['cell_type'] == 'raw':\n",
    "                num_raw_cells += 1\n",
    "\n",
    "        # and store all our values, this may have been better as a vector operation\n",
    "        df.set_value(i, 'byte_size', byte_size)\n",
    "        df.set_value(i, 'nb_format', nb_format)\n",
    "        df.set_value(i, 'nb_format_minor', nb_format_minor)\n",
    "        df.set_value(i, 'kernel_lang', kernel_lang)\n",
    "        df.set_value(i, 'kernel_name', kernel_name)\n",
    "        df.set_value(i, 'num_cells', num_cells)\n",
    "        df.set_value(i, 'num_markdown_cells', num_markdown_cells)\n",
    "        df.set_value(i, 'num_code_cells', num_code_cells)\n",
    "        df.set_value(i, 'num_raw_cells', num_raw_cells)\n",
    "        df.set_value(i, 'markdown_words', markdown_words)\n",
    "        df.set_value(i, 'code_lines', code_lines)\n",
    "        df.set_value(i, 'num_display_data', num_display_data)\n",
    "        df.set_value(i, 'num_execute_result', num_execute_result)\n",
    "        df.set_value(i, 'num_error', num_error)"
   ]
  },
  {
   "cell_type": "markdown",
   "metadata": {},
   "source": [
    "## Cleaning\n",
    "\n",
    "And after some hacky scraping, I think I should have values for most of my measures. Now to check. First off, how many null values do I have? And what are the notebooks that are causing issues?\n",
    "\n",
    "Two notebooks (743, 842), did not exist anymore (likely taken down between the search query and scraping the full notebook). Two were nbformat version 3.0, and did not have a kernel spec, and several others do not have kernel metadata. Overall, fairly full dataset."
   ]
  },
  {
   "cell_type": "code",
   "execution_count": 6,
   "metadata": {},
   "outputs": [
    {
     "data": {
      "text/html": [
       "<div>\n",
       "<style>\n",
       "    .dataframe thead tr:only-child th {\n",
       "        text-align: right;\n",
       "    }\n",
       "\n",
       "    .dataframe thead th {\n",
       "        text-align: left;\n",
       "    }\n",
       "\n",
       "    .dataframe tbody tr th {\n",
       "        vertical-align: top;\n",
       "    }\n",
       "</style>\n",
       "<table border=\"1\" class=\"dataframe\">\n",
       "  <thead>\n",
       "    <tr style=\"text-align: right;\">\n",
       "      <th></th>\n",
       "      <th>html_url</th>\n",
       "      <th>name</th>\n",
       "      <th>path</th>\n",
       "      <th>raw_url</th>\n",
       "      <th>download_index</th>\n",
       "      <th>user_name</th>\n",
       "      <th>repo_name</th>\n",
       "      <th>byte_size</th>\n",
       "      <th>num_cells</th>\n",
       "      <th>num_markdown_cells</th>\n",
       "      <th>...</th>\n",
       "      <th>num_raw_cells</th>\n",
       "      <th>markdown_words</th>\n",
       "      <th>code_lines</th>\n",
       "      <th>num_display_data</th>\n",
       "      <th>num_execute_result</th>\n",
       "      <th>num_error</th>\n",
       "      <th>nb_format</th>\n",
       "      <th>nb_format_minor</th>\n",
       "      <th>kernel_lang</th>\n",
       "      <th>kernel_name</th>\n",
       "    </tr>\n",
       "  </thead>\n",
       "  <tbody>\n",
       "    <tr>\n",
       "      <th>49</th>\n",
       "      <td>https://github.com/vsmolyakov/experiments_with...</td>\n",
       "      <td>stock_clusters.ipynb</td>\n",
       "      <td>chp04/stock_clusters.ipynb</td>\n",
       "      <td>https://raw.githubusercontent.com/vsmolyakov/e...</td>\n",
       "      <td>49</td>\n",
       "      <td>vsmolyakov</td>\n",
       "      <td>experiments_with_python</td>\n",
       "      <td>124172</td>\n",
       "      <td>19</td>\n",
       "      <td>9</td>\n",
       "      <td>...</td>\n",
       "      <td>0</td>\n",
       "      <td>172</td>\n",
       "      <td>111</td>\n",
       "      <td>3</td>\n",
       "      <td>1</td>\n",
       "      <td>0</td>\n",
       "      <td>3</td>\n",
       "      <td>0</td>\n",
       "      <td>None</td>\n",
       "      <td>None</td>\n",
       "    </tr>\n",
       "    <tr>\n",
       "      <th>695</th>\n",
       "      <td>https://github.com/Closure-Man/DiscreteNoteboo...</td>\n",
       "      <td>Module2_Boolean_Logic_Basic-checkpoint.ipynb</td>\n",
       "      <td>Discrete/.ipynb_checkpoints/Module2_Boolean_Lo...</td>\n",
       "      <td>https://raw.githubusercontent.com/Closure-Man/...</td>\n",
       "      <td>695</td>\n",
       "      <td>Closure-Man</td>\n",
       "      <td>DiscreteNotebooks</td>\n",
       "      <td>72</td>\n",
       "      <td>0</td>\n",
       "      <td>0</td>\n",
       "      <td>...</td>\n",
       "      <td>0</td>\n",
       "      <td>0</td>\n",
       "      <td>0</td>\n",
       "      <td>0</td>\n",
       "      <td>0</td>\n",
       "      <td>0</td>\n",
       "      <td>4</td>\n",
       "      <td>2</td>\n",
       "      <td>None</td>\n",
       "      <td>None</td>\n",
       "    </tr>\n",
       "    <tr>\n",
       "      <th>743</th>\n",
       "      <td>https://github.com/CPapadim/onboarding-npd/blo...</td>\n",
       "      <td>demo-notebook.ipynb</td>\n",
       "      <td>demo-notebook.ipynb</td>\n",
       "      <td>https://raw.githubusercontent.com/CPapadim/onb...</td>\n",
       "      <td>743</td>\n",
       "      <td>CPapadim</td>\n",
       "      <td>onboarding-npd</td>\n",
       "      <td>None</td>\n",
       "      <td>None</td>\n",
       "      <td>None</td>\n",
       "      <td>...</td>\n",
       "      <td>None</td>\n",
       "      <td>None</td>\n",
       "      <td>None</td>\n",
       "      <td>None</td>\n",
       "      <td>None</td>\n",
       "      <td>None</td>\n",
       "      <td>None</td>\n",
       "      <td>None</td>\n",
       "      <td>None</td>\n",
       "      <td>None</td>\n",
       "    </tr>\n",
       "    <tr>\n",
       "      <th>746</th>\n",
       "      <td>https://github.com/jmborr/confinedBSA/blob/bf1...</td>\n",
       "      <td>confinedBSA.ipynb</td>\n",
       "      <td>confinedBSA.ipynb</td>\n",
       "      <td>https://raw.githubusercontent.com/jmborr/confi...</td>\n",
       "      <td>746</td>\n",
       "      <td>jmborr</td>\n",
       "      <td>confinedBSA</td>\n",
       "      <td>42660</td>\n",
       "      <td>17</td>\n",
       "      <td>16</td>\n",
       "      <td>...</td>\n",
       "      <td>0</td>\n",
       "      <td>3033</td>\n",
       "      <td>0</td>\n",
       "      <td>0</td>\n",
       "      <td>0</td>\n",
       "      <td>0</td>\n",
       "      <td>3</td>\n",
       "      <td>0</td>\n",
       "      <td>None</td>\n",
       "      <td>None</td>\n",
       "    </tr>\n",
       "    <tr>\n",
       "      <th>755</th>\n",
       "      <td>https://github.com/wino6687/SWE_TB/blob/824428...</td>\n",
       "      <td>Down_Sampling_NetCDF-checkpoint.ipynb</td>\n",
       "      <td>.ipynb_checkpoints/Down_Sampling_NetCDF-checkp...</td>\n",
       "      <td>https://raw.githubusercontent.com/wino6687/SWE...</td>\n",
       "      <td>755</td>\n",
       "      <td>wino6687</td>\n",
       "      <td>SWE_TB</td>\n",
       "      <td>72</td>\n",
       "      <td>0</td>\n",
       "      <td>0</td>\n",
       "      <td>...</td>\n",
       "      <td>0</td>\n",
       "      <td>0</td>\n",
       "      <td>0</td>\n",
       "      <td>0</td>\n",
       "      <td>0</td>\n",
       "      <td>0</td>\n",
       "      <td>4</td>\n",
       "      <td>1</td>\n",
       "      <td>None</td>\n",
       "      <td>None</td>\n",
       "    </tr>\n",
       "    <tr>\n",
       "      <th>842</th>\n",
       "      <td>https://github.com/ggoedde/ml_mini_projects/bl...</td>\n",
       "      <td>neural_net_from_scratch.ipynb</td>\n",
       "      <td>neural_net_from_scratch/neural_net_from_scratc...</td>\n",
       "      <td>https://raw.githubusercontent.com/ggoedde/ml_m...</td>\n",
       "      <td>842</td>\n",
       "      <td>ggoedde</td>\n",
       "      <td>ml_mini_projects</td>\n",
       "      <td>None</td>\n",
       "      <td>None</td>\n",
       "      <td>None</td>\n",
       "      <td>...</td>\n",
       "      <td>None</td>\n",
       "      <td>None</td>\n",
       "      <td>None</td>\n",
       "      <td>None</td>\n",
       "      <td>None</td>\n",
       "      <td>None</td>\n",
       "      <td>None</td>\n",
       "      <td>None</td>\n",
       "      <td>None</td>\n",
       "      <td>None</td>\n",
       "    </tr>\n",
       "    <tr>\n",
       "      <th>912</th>\n",
       "      <td>https://github.com/ishanpanwar09/Projects/blob...</td>\n",
       "      <td>Untitled3-checkpoint.ipynb</td>\n",
       "      <td>Py-ImageClassification(Clarifai_and Tensorflow...</td>\n",
       "      <td>https://raw.githubusercontent.com/ishanpanwar0...</td>\n",
       "      <td>912</td>\n",
       "      <td>ishanpanwar09</td>\n",
       "      <td>Projects</td>\n",
       "      <td>72</td>\n",
       "      <td>0</td>\n",
       "      <td>0</td>\n",
       "      <td>...</td>\n",
       "      <td>0</td>\n",
       "      <td>0</td>\n",
       "      <td>0</td>\n",
       "      <td>0</td>\n",
       "      <td>0</td>\n",
       "      <td>0</td>\n",
       "      <td>4</td>\n",
       "      <td>1</td>\n",
       "      <td>None</td>\n",
       "      <td>None</td>\n",
       "    </tr>\n",
       "    <tr>\n",
       "      <th>913</th>\n",
       "      <td>https://github.com/ishanpanwar09/Projects/blob...</td>\n",
       "      <td>Untitled2-checkpoint.ipynb</td>\n",
       "      <td>Py-ImageClassification(Clarifai_and Tensorflow...</td>\n",
       "      <td>https://raw.githubusercontent.com/ishanpanwar0...</td>\n",
       "      <td>913</td>\n",
       "      <td>ishanpanwar09</td>\n",
       "      <td>Projects</td>\n",
       "      <td>72</td>\n",
       "      <td>0</td>\n",
       "      <td>0</td>\n",
       "      <td>...</td>\n",
       "      <td>0</td>\n",
       "      <td>0</td>\n",
       "      <td>0</td>\n",
       "      <td>0</td>\n",
       "      <td>0</td>\n",
       "      <td>0</td>\n",
       "      <td>4</td>\n",
       "      <td>1</td>\n",
       "      <td>None</td>\n",
       "      <td>None</td>\n",
       "    </tr>\n",
       "    <tr>\n",
       "      <th>914</th>\n",
       "      <td>https://github.com/ishanpanwar09/Projects/blob...</td>\n",
       "      <td>Untitled1-checkpoint.ipynb</td>\n",
       "      <td>Py-ImageClassification(Clarifai_and Tensorflow...</td>\n",
       "      <td>https://raw.githubusercontent.com/ishanpanwar0...</td>\n",
       "      <td>914</td>\n",
       "      <td>ishanpanwar09</td>\n",
       "      <td>Projects</td>\n",
       "      <td>72</td>\n",
       "      <td>0</td>\n",
       "      <td>0</td>\n",
       "      <td>...</td>\n",
       "      <td>0</td>\n",
       "      <td>0</td>\n",
       "      <td>0</td>\n",
       "      <td>0</td>\n",
       "      <td>0</td>\n",
       "      <td>0</td>\n",
       "      <td>4</td>\n",
       "      <td>1</td>\n",
       "      <td>None</td>\n",
       "      <td>None</td>\n",
       "    </tr>\n",
       "    <tr>\n",
       "      <th>977</th>\n",
       "      <td>https://github.com/Bulochkin/tensorflow_pack/b...</td>\n",
       "      <td>2_getting_started.ipynb</td>\n",
       "      <td>tensorflow/tools/docker/notebooks/2_getting_st...</td>\n",
       "      <td>https://raw.githubusercontent.com/Bulochkin/te...</td>\n",
       "      <td>977</td>\n",
       "      <td>Bulochkin</td>\n",
       "      <td>tensorflow_pack</td>\n",
       "      <td>164559</td>\n",
       "      <td>25</td>\n",
       "      <td>16</td>\n",
       "      <td>...</td>\n",
       "      <td>0</td>\n",
       "      <td>1242</td>\n",
       "      <td>220</td>\n",
       "      <td>6</td>\n",
       "      <td>2</td>\n",
       "      <td>0</td>\n",
       "      <td>4</td>\n",
       "      <td>0</td>\n",
       "      <td>None</td>\n",
       "      <td>None</td>\n",
       "    </tr>\n",
       "    <tr>\n",
       "      <th>978</th>\n",
       "      <td>https://github.com/Bulochkin/tensorflow_pack/b...</td>\n",
       "      <td>1_hello_tensorflow.ipynb</td>\n",
       "      <td>tensorflow/tools/docker/notebooks/1_hello_tens...</td>\n",
       "      <td>https://raw.githubusercontent.com/Bulochkin/te...</td>\n",
       "      <td>978</td>\n",
       "      <td>Bulochkin</td>\n",
       "      <td>tensorflow_pack</td>\n",
       "      <td>25023</td>\n",
       "      <td>24</td>\n",
       "      <td>16</td>\n",
       "      <td>...</td>\n",
       "      <td>0</td>\n",
       "      <td>1534</td>\n",
       "      <td>75</td>\n",
       "      <td>0</td>\n",
       "      <td>0</td>\n",
       "      <td>0</td>\n",
       "      <td>4</td>\n",
       "      <td>0</td>\n",
       "      <td>None</td>\n",
       "      <td>None</td>\n",
       "    </tr>\n",
       "    <tr>\n",
       "      <th>979</th>\n",
       "      <td>https://github.com/Bulochkin/tensorflow_pack/b...</td>\n",
       "      <td>6_lstm.ipynb</td>\n",
       "      <td>tensorflow/examples/udacity/6_lstm.ipynb</td>\n",
       "      <td>https://raw.githubusercontent.com/Bulochkin/te...</td>\n",
       "      <td>979</td>\n",
       "      <td>Bulochkin</td>\n",
       "      <td>tensorflow_pack</td>\n",
       "      <td>47306</td>\n",
       "      <td>18</td>\n",
       "      <td>9</td>\n",
       "      <td>...</td>\n",
       "      <td>0</td>\n",
       "      <td>267</td>\n",
       "      <td>277</td>\n",
       "      <td>0</td>\n",
       "      <td>0</td>\n",
       "      <td>0</td>\n",
       "      <td>4</td>\n",
       "      <td>0</td>\n",
       "      <td>None</td>\n",
       "      <td>None</td>\n",
       "    </tr>\n",
       "    <tr>\n",
       "      <th>980</th>\n",
       "      <td>https://github.com/Bulochkin/tensorflow_pack/b...</td>\n",
       "      <td>5_word2vec.ipynb</td>\n",
       "      <td>tensorflow/examples/udacity/5_word2vec.ipynb</td>\n",
       "      <td>https://raw.githubusercontent.com/Bulochkin/te...</td>\n",
       "      <td>980</td>\n",
       "      <td>Bulochkin</td>\n",
       "      <td>tensorflow_pack</td>\n",
       "      <td>316538</td>\n",
       "      <td>16</td>\n",
       "      <td>7</td>\n",
       "      <td>...</td>\n",
       "      <td>0</td>\n",
       "      <td>118</td>\n",
       "      <td>197</td>\n",
       "      <td>1</td>\n",
       "      <td>0</td>\n",
       "      <td>0</td>\n",
       "      <td>4</td>\n",
       "      <td>0</td>\n",
       "      <td>None</td>\n",
       "      <td>None</td>\n",
       "    </tr>\n",
       "    <tr>\n",
       "      <th>981</th>\n",
       "      <td>https://github.com/Bulochkin/tensorflow_pack/b...</td>\n",
       "      <td>4_convolutions.ipynb</td>\n",
       "      <td>tensorflow/examples/udacity/4_convolutions.ipynb</td>\n",
       "      <td>https://raw.githubusercontent.com/Bulochkin/te...</td>\n",
       "      <td>981</td>\n",
       "      <td>Bulochkin</td>\n",
       "      <td>tensorflow_pack</td>\n",
       "      <td>16278</td>\n",
       "      <td>11</td>\n",
       "      <td>5</td>\n",
       "      <td>...</td>\n",
       "      <td>0</td>\n",
       "      <td>155</td>\n",
       "      <td>112</td>\n",
       "      <td>0</td>\n",
       "      <td>0</td>\n",
       "      <td>0</td>\n",
       "      <td>4</td>\n",
       "      <td>0</td>\n",
       "      <td>None</td>\n",
       "      <td>None</td>\n",
       "    </tr>\n",
       "    <tr>\n",
       "      <th>982</th>\n",
       "      <td>https://github.com/Bulochkin/tensorflow_pack/b...</td>\n",
       "      <td>3_regularization.ipynb</td>\n",
       "      <td>tensorflow/examples/udacity/3_regularization.i...</td>\n",
       "      <td>https://raw.githubusercontent.com/Bulochkin/te...</td>\n",
       "      <td>982</td>\n",
       "      <td>Bulochkin</td>\n",
       "      <td>tensorflow_pack</td>\n",
       "      <td>9133</td>\n",
       "      <td>11</td>\n",
       "      <td>7</td>\n",
       "      <td>...</td>\n",
       "      <td>0</td>\n",
       "      <td>268</td>\n",
       "      <td>37</td>\n",
       "      <td>0</td>\n",
       "      <td>0</td>\n",
       "      <td>0</td>\n",
       "      <td>4</td>\n",
       "      <td>0</td>\n",
       "      <td>None</td>\n",
       "      <td>None</td>\n",
       "    </tr>\n",
       "    <tr>\n",
       "      <th>983</th>\n",
       "      <td>https://github.com/Bulochkin/tensorflow_pack/b...</td>\n",
       "      <td>2_fullyconnected.ipynb</td>\n",
       "      <td>tensorflow/examples/udacity/2_fullyconnected.i...</td>\n",
       "      <td>https://raw.githubusercontent.com/Bulochkin/te...</td>\n",
       "      <td>983</td>\n",
       "      <td>Bulochkin</td>\n",
       "      <td>tensorflow_pack</td>\n",
       "      <td>21102</td>\n",
       "      <td>15</td>\n",
       "      <td>8</td>\n",
       "      <td>...</td>\n",
       "      <td>0</td>\n",
       "      <td>287</td>\n",
       "      <td>160</td>\n",
       "      <td>0</td>\n",
       "      <td>0</td>\n",
       "      <td>0</td>\n",
       "      <td>4</td>\n",
       "      <td>0</td>\n",
       "      <td>None</td>\n",
       "      <td>None</td>\n",
       "    </tr>\n",
       "    <tr>\n",
       "      <th>984</th>\n",
       "      <td>https://github.com/Bulochkin/tensorflow_pack/b...</td>\n",
       "      <td>1_notmnist.ipynb</td>\n",
       "      <td>tensorflow/examples/udacity/1_notmnist.ipynb</td>\n",
       "      <td>https://raw.githubusercontent.com/Bulochkin/te...</td>\n",
       "      <td>984</td>\n",
       "      <td>Bulochkin</td>\n",
       "      <td>tensorflow_pack</td>\n",
       "      <td>30236</td>\n",
       "      <td>21</td>\n",
       "      <td>13</td>\n",
       "      <td>...</td>\n",
       "      <td>0</td>\n",
       "      <td>646</td>\n",
       "      <td>214</td>\n",
       "      <td>0</td>\n",
       "      <td>0</td>\n",
       "      <td>0</td>\n",
       "      <td>4</td>\n",
       "      <td>0</td>\n",
       "      <td>None</td>\n",
       "      <td>None</td>\n",
       "    </tr>\n",
       "  </tbody>\n",
       "</table>\n",
       "<p>17 rows × 21 columns</p>\n",
       "</div>"
      ],
      "text/plain": [
       "                                              html_url  \\\n",
       "49   https://github.com/vsmolyakov/experiments_with...   \n",
       "695  https://github.com/Closure-Man/DiscreteNoteboo...   \n",
       "743  https://github.com/CPapadim/onboarding-npd/blo...   \n",
       "746  https://github.com/jmborr/confinedBSA/blob/bf1...   \n",
       "755  https://github.com/wino6687/SWE_TB/blob/824428...   \n",
       "842  https://github.com/ggoedde/ml_mini_projects/bl...   \n",
       "912  https://github.com/ishanpanwar09/Projects/blob...   \n",
       "913  https://github.com/ishanpanwar09/Projects/blob...   \n",
       "914  https://github.com/ishanpanwar09/Projects/blob...   \n",
       "977  https://github.com/Bulochkin/tensorflow_pack/b...   \n",
       "978  https://github.com/Bulochkin/tensorflow_pack/b...   \n",
       "979  https://github.com/Bulochkin/tensorflow_pack/b...   \n",
       "980  https://github.com/Bulochkin/tensorflow_pack/b...   \n",
       "981  https://github.com/Bulochkin/tensorflow_pack/b...   \n",
       "982  https://github.com/Bulochkin/tensorflow_pack/b...   \n",
       "983  https://github.com/Bulochkin/tensorflow_pack/b...   \n",
       "984  https://github.com/Bulochkin/tensorflow_pack/b...   \n",
       "\n",
       "                                             name  \\\n",
       "49                           stock_clusters.ipynb   \n",
       "695  Module2_Boolean_Logic_Basic-checkpoint.ipynb   \n",
       "743                           demo-notebook.ipynb   \n",
       "746                             confinedBSA.ipynb   \n",
       "755         Down_Sampling_NetCDF-checkpoint.ipynb   \n",
       "842                 neural_net_from_scratch.ipynb   \n",
       "912                    Untitled3-checkpoint.ipynb   \n",
       "913                    Untitled2-checkpoint.ipynb   \n",
       "914                    Untitled1-checkpoint.ipynb   \n",
       "977                       2_getting_started.ipynb   \n",
       "978                      1_hello_tensorflow.ipynb   \n",
       "979                                  6_lstm.ipynb   \n",
       "980                              5_word2vec.ipynb   \n",
       "981                          4_convolutions.ipynb   \n",
       "982                        3_regularization.ipynb   \n",
       "983                        2_fullyconnected.ipynb   \n",
       "984                              1_notmnist.ipynb   \n",
       "\n",
       "                                                  path  \\\n",
       "49                          chp04/stock_clusters.ipynb   \n",
       "695  Discrete/.ipynb_checkpoints/Module2_Boolean_Lo...   \n",
       "743                                demo-notebook.ipynb   \n",
       "746                                  confinedBSA.ipynb   \n",
       "755  .ipynb_checkpoints/Down_Sampling_NetCDF-checkp...   \n",
       "842  neural_net_from_scratch/neural_net_from_scratc...   \n",
       "912  Py-ImageClassification(Clarifai_and Tensorflow...   \n",
       "913  Py-ImageClassification(Clarifai_and Tensorflow...   \n",
       "914  Py-ImageClassification(Clarifai_and Tensorflow...   \n",
       "977  tensorflow/tools/docker/notebooks/2_getting_st...   \n",
       "978  tensorflow/tools/docker/notebooks/1_hello_tens...   \n",
       "979           tensorflow/examples/udacity/6_lstm.ipynb   \n",
       "980       tensorflow/examples/udacity/5_word2vec.ipynb   \n",
       "981   tensorflow/examples/udacity/4_convolutions.ipynb   \n",
       "982  tensorflow/examples/udacity/3_regularization.i...   \n",
       "983  tensorflow/examples/udacity/2_fullyconnected.i...   \n",
       "984       tensorflow/examples/udacity/1_notmnist.ipynb   \n",
       "\n",
       "                                               raw_url  download_index  \\\n",
       "49   https://raw.githubusercontent.com/vsmolyakov/e...              49   \n",
       "695  https://raw.githubusercontent.com/Closure-Man/...             695   \n",
       "743  https://raw.githubusercontent.com/CPapadim/onb...             743   \n",
       "746  https://raw.githubusercontent.com/jmborr/confi...             746   \n",
       "755  https://raw.githubusercontent.com/wino6687/SWE...             755   \n",
       "842  https://raw.githubusercontent.com/ggoedde/ml_m...             842   \n",
       "912  https://raw.githubusercontent.com/ishanpanwar0...             912   \n",
       "913  https://raw.githubusercontent.com/ishanpanwar0...             913   \n",
       "914  https://raw.githubusercontent.com/ishanpanwar0...             914   \n",
       "977  https://raw.githubusercontent.com/Bulochkin/te...             977   \n",
       "978  https://raw.githubusercontent.com/Bulochkin/te...             978   \n",
       "979  https://raw.githubusercontent.com/Bulochkin/te...             979   \n",
       "980  https://raw.githubusercontent.com/Bulochkin/te...             980   \n",
       "981  https://raw.githubusercontent.com/Bulochkin/te...             981   \n",
       "982  https://raw.githubusercontent.com/Bulochkin/te...             982   \n",
       "983  https://raw.githubusercontent.com/Bulochkin/te...             983   \n",
       "984  https://raw.githubusercontent.com/Bulochkin/te...             984   \n",
       "\n",
       "         user_name                repo_name byte_size num_cells  \\\n",
       "49      vsmolyakov  experiments_with_python    124172        19   \n",
       "695    Closure-Man        DiscreteNotebooks        72         0   \n",
       "743       CPapadim           onboarding-npd      None      None   \n",
       "746         jmborr              confinedBSA     42660        17   \n",
       "755       wino6687                   SWE_TB        72         0   \n",
       "842        ggoedde         ml_mini_projects      None      None   \n",
       "912  ishanpanwar09                 Projects        72         0   \n",
       "913  ishanpanwar09                 Projects        72         0   \n",
       "914  ishanpanwar09                 Projects        72         0   \n",
       "977      Bulochkin          tensorflow_pack    164559        25   \n",
       "978      Bulochkin          tensorflow_pack     25023        24   \n",
       "979      Bulochkin          tensorflow_pack     47306        18   \n",
       "980      Bulochkin          tensorflow_pack    316538        16   \n",
       "981      Bulochkin          tensorflow_pack     16278        11   \n",
       "982      Bulochkin          tensorflow_pack      9133        11   \n",
       "983      Bulochkin          tensorflow_pack     21102        15   \n",
       "984      Bulochkin          tensorflow_pack     30236        21   \n",
       "\n",
       "    num_markdown_cells     ...     num_raw_cells markdown_words code_lines  \\\n",
       "49                   9     ...                 0            172        111   \n",
       "695                  0     ...                 0              0          0   \n",
       "743               None     ...              None           None       None   \n",
       "746                 16     ...                 0           3033          0   \n",
       "755                  0     ...                 0              0          0   \n",
       "842               None     ...              None           None       None   \n",
       "912                  0     ...                 0              0          0   \n",
       "913                  0     ...                 0              0          0   \n",
       "914                  0     ...                 0              0          0   \n",
       "977                 16     ...                 0           1242        220   \n",
       "978                 16     ...                 0           1534         75   \n",
       "979                  9     ...                 0            267        277   \n",
       "980                  7     ...                 0            118        197   \n",
       "981                  5     ...                 0            155        112   \n",
       "982                  7     ...                 0            268         37   \n",
       "983                  8     ...                 0            287        160   \n",
       "984                 13     ...                 0            646        214   \n",
       "\n",
       "    num_display_data num_execute_result num_error nb_format nb_format_minor  \\\n",
       "49                 3                  1         0         3               0   \n",
       "695                0                  0         0         4               2   \n",
       "743             None               None      None      None            None   \n",
       "746                0                  0         0         3               0   \n",
       "755                0                  0         0         4               1   \n",
       "842             None               None      None      None            None   \n",
       "912                0                  0         0         4               1   \n",
       "913                0                  0         0         4               1   \n",
       "914                0                  0         0         4               1   \n",
       "977                6                  2         0         4               0   \n",
       "978                0                  0         0         4               0   \n",
       "979                0                  0         0         4               0   \n",
       "980                1                  0         0         4               0   \n",
       "981                0                  0         0         4               0   \n",
       "982                0                  0         0         4               0   \n",
       "983                0                  0         0         4               0   \n",
       "984                0                  0         0         4               0   \n",
       "\n",
       "    kernel_lang kernel_name  \n",
       "49         None        None  \n",
       "695        None        None  \n",
       "743        None        None  \n",
       "746        None        None  \n",
       "755        None        None  \n",
       "842        None        None  \n",
       "912        None        None  \n",
       "913        None        None  \n",
       "914        None        None  \n",
       "977        None        None  \n",
       "978        None        None  \n",
       "979        None        None  \n",
       "980        None        None  \n",
       "981        None        None  \n",
       "982        None        None  \n",
       "983        None        None  \n",
       "984        None        None  \n",
       "\n",
       "[17 rows x 21 columns]"
      ]
     },
     "execution_count": 6,
     "metadata": {},
     "output_type": "execute_result"
    }
   ],
   "source": [
    "df[df.isnull().any(axis=1)]"
   ]
  },
  {
   "cell_type": "code",
   "execution_count": 7,
   "metadata": {},
   "outputs": [
    {
     "data": {
      "text/plain": [
       "(1003, 21)"
      ]
     },
     "execution_count": 7,
     "metadata": {},
     "output_type": "execute_result"
    }
   ],
   "source": [
    "# only 17 notebooks missing any data, mostly the kernel\n",
    "df_clean = df.dropna()\n",
    "df_clean.shape"
   ]
  },
  {
   "cell_type": "markdown",
   "metadata": {},
   "source": [
    "## Analysis"
   ]
  },
  {
   "cell_type": "markdown",
   "metadata": {},
   "source": [
    "### Users and Repos\n",
    "\n",
    "According to this analysis, There are only 134 users and 138 repos contributing to the 1020 most recently index notebooks on GitHub. By far and away matplotlib's devdocs is the largest contributor with over half the notebooks.\n",
    "\n",
    "It looks like Matplotlib's development team generated a lot of the notebooks we scraped. For the rest of the analysis, we will look at how removing this group affects our measures."
   ]
  },
  {
   "cell_type": "code",
   "execution_count": 8,
   "metadata": {
    "scrolled": true
   },
   "outputs": [
    {
     "data": {
      "text/plain": [
       "matplotlib              556\n",
       "datumsays                82\n",
       "deepakgupta1313          41\n",
       "ishanpanwar09            40\n",
       "hungjinh                 37\n",
       "KnittelK                 14\n",
       "Closure-Man              12\n",
       "Bulochkin                10\n",
       "wino6687                 10\n",
       "giuliavezzani             6\n",
       "TWellman                  6\n",
       "johnnycs                  5\n",
       "elirex                    5\n",
       "mcscruf61                 5\n",
       "jmern3250                 5\n",
       "fonnesbeck                5\n",
       "gloryfromca               4\n",
       "HuangYiran                4\n",
       "bringingjoy               4\n",
       "lesley2958                4\n",
       "NSLS-II                   4\n",
       "c-ern                     4\n",
       "ds17                      3\n",
       "mslovett21                3\n",
       "betamore                  3\n",
       "ikizhvatov                3\n",
       "abhisekswain              3\n",
       "MsToT                     3\n",
       "LingxB                    2\n",
       "annacbf                   2\n",
       "                       ... \n",
       "andrewjsiu                1\n",
       "ericschulz                1\n",
       "doudoujay                 1\n",
       "lanking520                1\n",
       "eds-uga                   1\n",
       "Teerapat12                1\n",
       "Programming-Skills        1\n",
       "laurent-george            1\n",
       "RAvdek                    1\n",
       "mileslucas                1\n",
       "ajmaradiaga               1\n",
       "k-mawa                    1\n",
       "google                    1\n",
       "acdh-oeaw                 1\n",
       "BigDataP                  1\n",
       "BenjiDa                   1\n",
       "spsstudent15              1\n",
       "ggoedde                   1\n",
       "CharlesBradshaw           1\n",
       "MaxRoecker                1\n",
       "jeanzhaoyi                1\n",
       "MBatistussi               1\n",
       "leonardoaraujosantos      1\n",
       "stakas                    1\n",
       "DouglasGrion              1\n",
       "100percentscott           1\n",
       "srs70187                  1\n",
       "silburt                   1\n",
       "ivborissov                1\n",
       "djgagne                   1\n",
       "Name: user_name, Length: 134, dtype: int64"
      ]
     },
     "execution_count": 8,
     "metadata": {},
     "output_type": "execute_result"
    }
   ],
   "source": [
    "df['user_name'].value_counts()"
   ]
  },
  {
   "cell_type": "code",
   "execution_count": 9,
   "metadata": {
    "scrolled": true
   },
   "outputs": [
    {
     "data": {
      "text/plain": [
       "devdocs                         556\n",
       "testing_dir                      82\n",
       "deep-learning                    41\n",
       "Projects                         40\n",
       "baryon_proj                      37\n",
       "BH-collisional-outcomes          14\n",
       "DiscreteNotebooks                12\n",
       "SWE_TB                           10\n",
       "tensorflow_pack                  10\n",
       "cs231n-assignements               6\n",
       "dengue-prediction                 5\n",
       "ml-practice                       5\n",
       "EE207                             5\n",
       "ngcm_sklearn_2017                 5\n",
       "MAE4120                           5\n",
       "exceltest                         4\n",
       "tutorial-docker                   4\n",
       "Tensorflow_formatted              4\n",
       "python_data_analysis              4\n",
       "fakenewsjedi                      4\n",
       "adS17                             3\n",
       "Vendor-AI                         3\n",
       "USGS_BCB-NPN-Dev-Space            3\n",
       "erddap_scibase_synthesis          3\n",
       "Indexing-Tools-Project            3\n",
       "jlsca-tutorials                   3\n",
       "laughing-guide                    3\n",
       "reptiles_gh                       3\n",
       "regression                        2\n",
       "customer_segments                 2\n",
       "                               ... \n",
       "Survival                          1\n",
       "julia_edu                         1\n",
       "scrapers                          1\n",
       "jupyter                           1\n",
       "Data-Driven-Astronomy             1\n",
       "Capstone_Project_NLP              1\n",
       "Flowstress                        1\n",
       "hagelslag                         1\n",
       "thunau                            1\n",
       "moon_convnet_public               1\n",
       "csci1360e-su17                    1\n",
       "anharmonic.net                    1\n",
       "pyopencl-tutorial                 1\n",
       "interview-questions               1\n",
       "anomalydetection                  1\n",
       "D3HREdev                          1\n",
       "tutorials                         1\n",
       "dlnd-language-translation         1\n",
       "BigData                           1\n",
       "smarkets                          1\n",
       "cat-scan                          1\n",
       "Pandas-Statistics-Project         1\n",
       "compforca                         1\n",
       "image-classification              1\n",
       "Zillow                            1\n",
       "geonumerics                       1\n",
       "NeuralNetwork                     1\n",
       "open_machine_learning             1\n",
       "opogode                           1\n",
       "titanic_survival_exploration      1\n",
       "Name: repo_name, Length: 138, dtype: int64"
      ]
     },
     "execution_count": 9,
     "metadata": {},
     "output_type": "execute_result"
    }
   ],
   "source": [
    "df['repo_name'].value_counts()"
   ]
  },
  {
   "cell_type": "code",
   "execution_count": 10,
   "metadata": {},
   "outputs": [
    {
     "data": {
      "text/plain": [
       "(447, 21)"
      ]
     },
     "execution_count": 10,
     "metadata": {},
     "output_type": "execute_result"
    }
   ],
   "source": [
    "# removing matplotlib cuts the dataset in half\n",
    "df_no_matplotlib = df_clean[df_clean.user_name != 'matplotlib']\n",
    "df_no_matplotlib.shape"
   ]
  },
  {
   "cell_type": "markdown",
   "metadata": {},
   "source": [
    "### nbformat\n",
    "Most notebooks are nbformat 4.0, followed by 4.2 and 4.1"
   ]
  },
  {
   "cell_type": "code",
   "execution_count": 11,
   "metadata": {},
   "outputs": [
    {
     "data": {
      "text/plain": [
       "4    1016\n",
       "3       2\n",
       "Name: nb_format, dtype: int64"
      ]
     },
     "execution_count": 11,
     "metadata": {},
     "output_type": "execute_result"
    }
   ],
   "source": [
    "df['nb_format'].value_counts()"
   ]
  },
  {
   "cell_type": "code",
   "execution_count": 12,
   "metadata": {},
   "outputs": [
    {
     "data": {
      "text/plain": [
       "0    719\n",
       "2    191\n",
       "1    108\n",
       "Name: nb_format_minor, dtype: int64"
      ]
     },
     "execution_count": 12,
     "metadata": {},
     "output_type": "execute_result"
    }
   ],
   "source": [
    "df['nb_format_minor'].value_counts()"
   ]
  },
  {
   "cell_type": "markdown",
   "metadata": {},
   "source": [
    "### Kernel\n",
    "And python (python3 to be exact) is by far the most used kernel. Only 1% in this sample used anything else. However, we'd need to check the magics to see if notebooks are calling other types of code (e.g. %%bash)"
   ]
  },
  {
   "cell_type": "code",
   "execution_count": 13,
   "metadata": {},
   "outputs": [
    {
     "data": {
      "text/plain": [
       "python    992\n",
       "julia       7\n",
       "R           2\n",
       "bash        2\n",
       "Name: kernel_lang, dtype: int64"
      ]
     },
     "execution_count": 13,
     "metadata": {},
     "output_type": "execute_result"
    }
   ],
   "source": [
    "df['kernel_lang'].value_counts()"
   ]
  },
  {
   "cell_type": "code",
   "execution_count": 14,
   "metadata": {},
   "outputs": [
    {
     "data": {
      "text/plain": [
       "python3                       816\n",
       "python2                       112\n",
       "Python [Root]                  29\n",
       "conda-root-py                  10\n",
       "conda-env-ipykernel_py2-py      9\n",
       "julia-0.6                       6\n",
       "conda-env-ipykernel_35-py       4\n",
       "django_extensions               2\n",
       "python3.5                       2\n",
       "conda-env-PDSH-py               2\n",
       "Python [py27]                   2\n",
       "bash                            2\n",
       "ir                              1\n",
       "Python [py3]                    1\n",
       "python_env                      1\n",
       "julia-0.5                       1\n",
       "conda-env-py35-r                1\n",
       "tensorflow-gpu-1.2              1\n",
       "tensorflow-cpu                  1\n",
       "Name: kernel_name, dtype: int64"
      ]
     },
     "execution_count": 14,
     "metadata": {},
     "output_type": "execute_result"
    }
   ],
   "source": [
    "df['kernel_name'].value_counts()"
   ]
  },
  {
   "cell_type": "markdown",
   "metadata": {},
   "source": [
    "### Filesize\n",
    "It is hard to tell with this small of a dataset, but plotted on a log scale it almost seems like we have a normal distribution around 100,000 bytes, once we remove matplotlib's small files.\n",
    "\n",
    "The blue is the full dataset, and the green is with matplotlib removed."
   ]
  },
  {
   "cell_type": "code",
   "execution_count": 15,
   "metadata": {},
   "outputs": [
    {
     "data": {
      "text/plain": [
       "<matplotlib.axes._subplots.AxesSubplot at 0x11b3bae80>"
      ]
     },
     "execution_count": 15,
     "metadata": {},
     "output_type": "execute_result"
    },
    {
     "data": {
      "image/png": "[encoded data removed]",
      "text/plain": [
       "<matplotlib.figure.Figure at 0x11ab131d0>"
      ]
     },
     "metadata": {},
     "output_type": "display_data"
    }
   ],
   "source": [
    "fig1, ax1 = plt.subplots(figsize=(16, 6))\n",
    "ax1.set_xscale('log')\n",
    "\n",
    "sns.distplot(df_clean['byte_size'], bins=np.logspace(0, 7, 50), kde=False, ax = ax1)\n",
    "sns.distplot(df_no_matplotlib['byte_size'], bins=np.logspace(0, 7, 50), kde=False, ax = ax1)"
   ]
  },
  {
   "cell_type": "code",
   "execution_count": 26,
   "metadata": {},
   "outputs": [
    {
     "data": {
      "text/plain": [
       "<matplotlib.axes._subplots.AxesSubplot at 0x11bf45908>"
      ]
     },
     "execution_count": 26,
     "metadata": {},
     "output_type": "execute_result"
    },
    {
     "data": {
      "image/png": "[encoded data removed]",
      "text/plain": [
       "<matplotlib.figure.Figure at 0x11bf817b8>"
      ]
     },
     "metadata": {},
     "output_type": "display_data"
    }
   ],
   "source": [
    "fig1, ax1 = plt.subplots(figsize=(16, 6))\n",
    "ax1.set_xscale('log')\n",
    "\n",
    "# sns.distplot(df_clean['byte_size'], bins=np.logspace(0, 7, 50), kde=False, ax = ax1)\n",
    "sns.distplot(df_no_matplotlib['byte_size'], bins=np.logspace(0, 7, 25), kde=False, ax = ax1)"
   ]
  },
  {
   "cell_type": "markdown",
   "metadata": {},
   "source": [
    "### Num Cells\n",
    "Almost all of matplotlib's notebooks are three cells, with the rest distributed around a couple dozen cells or so."
   ]
  },
  {
   "cell_type": "code",
   "execution_count": 25,
   "metadata": {},
   "outputs": [
    {
     "data": {
      "text/plain": [
       "<matplotlib.axes._subplots.AxesSubplot at 0x11b27ac50>"
      ]
     },
     "execution_count": 25,
     "metadata": {},
     "output_type": "execute_result"
    },
    {
     "data": {
      "image/png": "[encoded data removed]",
      "text/plain": [
       "<matplotlib.figure.Figure at 0x11bea4908>"
      ]
     },
     "metadata": {},
     "output_type": "display_data"
    }
   ],
   "source": [
    "fig2, ax2 = plt.subplots(figsize=(16, 6))\n",
    "ax2.set_xscale('log')\n",
    "\n",
    "# sns.distplot(df_clean['num_cells'], bins=np.logspace(0, 3, 50), kde=False, ax = ax2)\n",
    "sns.distplot(df_no_matplotlib['num_cells'], bins=np.logspace(0, 3, 25), kde=False, ax = ax2)"
   ]
  },
  {
   "cell_type": "markdown",
   "metadata": {},
   "source": [
    "### Words of Markdown\n",
    "Here things are a little more interesting. The matplotlib notebooks have a very wide range in the number of words included."
   ]
  },
  {
   "cell_type": "code",
   "execution_count": 24,
   "metadata": {
    "scrolled": false
   },
   "outputs": [
    {
     "data": {
      "text/plain": [
       "<matplotlib.axes._subplots.AxesSubplot at 0x11b6700b8>"
      ]
     },
     "execution_count": 24,
     "metadata": {},
     "output_type": "execute_result"
    },
    {
     "data": {
      "image/png": "[encoded data removed]",
      "text/plain": [
       "<matplotlib.figure.Figure at 0x12103c7f0>"
      ]
     },
     "metadata": {},
     "output_type": "display_data"
    }
   ],
   "source": [
    "fig3, ax3 = plt.subplots(figsize=(16, 6))\n",
    "ax3.set_xscale('log')\n",
    "\n",
    "# sns.distplot(df_clean['markdown_words'], bins=np.logspace(0, 4, 50), kde=False, ax = ax3)\n",
    "sns.distplot(df_no_matplotlib['markdown_words'], bins=np.logspace(0, 4, 25), kde=False, ax = ax3)"
   ]
  },
  {
   "cell_type": "markdown",
   "metadata": {},
   "source": [
    "### Lines of Code\n",
    "Finally, lines of code. Here matplotlib has only 2 lines of code for their files most of the time, quite possibly due to using \"\\n\" chars to differentiate lines. This could be evidence of generating the notebooks programatically."
   ]
  },
  {
   "cell_type": "code",
   "execution_count": 23,
   "metadata": {},
   "outputs": [
    {
     "data": {
      "image/png": "[encoded data removed]",
      "text/plain": [
       "<matplotlib.figure.Figure at 0x12102be80>"
      ]
     },
     "metadata": {},
     "output_type": "display_data"
    }
   ],
   "source": [
    "fig4, ax4 = plt.subplots(figsize=(16, 6))\n",
    "ax4.set_xscale('log')\n",
    "\n",
    "# ax = sns.distplot(df_clean['code_lines'], bins=np.logspace(0, 4, 50), kde=False, ax = ax4)\n",
    "ax = sns.distplot(df_no_matplotlib['code_lines'], bins=np.logspace(0, 4, 25), kde=False, ax = ax4)"
   ]
  },
  {
   "cell_type": "markdown",
   "metadata": {
    "collapsed": true
   },
   "source": [
    "## Notebook Content\n",
    "The real interesting part will be analyzing the notebook content. What is in the markd"
   ]
  }
 ],
 "metadata": {
  "comet_tracking": true,
  "kernelspec": {
   "display_name": "Python 3",
   "language": "python",
   "name": "python3"
  },
  "language_info": {
   "codemirror_mode": {
    "name": "ipython",
    "version": 3
   },
   "file_extension": ".py",
   "mimetype": "text/x-python",
   "name": "python",
   "nbconvert_exporter": "python",
   "pygments_lexer": "ipython3",
   "version": "3.6.1"
  }
 },
 "nbformat": 4,
 "nbformat_minor": 2
}
